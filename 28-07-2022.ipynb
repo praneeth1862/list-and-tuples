{
 "cells": [
  {
   "cell_type": "code",
   "execution_count": 4,
   "id": "ffade599",
   "metadata": {},
   "outputs": [],
   "source": [
    "str = \"prneeth sdfgs\""
   ]
  },
  {
   "cell_type": "code",
   "execution_count": 5,
   "id": "abe898e0",
   "metadata": {},
   "outputs": [
    {
     "data": {
      "text/plain": [
       "'Prneeth sdfgs'"
      ]
     },
     "execution_count": 5,
     "metadata": {},
     "output_type": "execute_result"
    }
   ],
   "source": [
    "str.capitalize()"
   ]
  },
  {
   "cell_type": "code",
   "execution_count": 6,
   "id": "4d6795fc",
   "metadata": {},
   "outputs": [
    {
     "data": {
      "text/plain": [
       "'Prneeth Sdfgs'"
      ]
     },
     "execution_count": 6,
     "metadata": {},
     "output_type": "execute_result"
    }
   ],
   "source": [
    "str.title()"
   ]
  },
  {
   "cell_type": "code",
   "execution_count": 8,
   "id": "5fb21e44",
   "metadata": {},
   "outputs": [
    {
     "data": {
      "text/plain": [
       "'prneeth sdfgs'"
      ]
     },
     "execution_count": 8,
     "metadata": {},
     "output_type": "execute_result"
    }
   ],
   "source": [
    "str.format()"
   ]
  },
  {
   "cell_type": "code",
   "execution_count": 10,
   "id": "b0c494d5",
   "metadata": {},
   "outputs": [
    {
     "data": {
      "text/plain": [
       "['prneeth', 'sdfgs']"
      ]
     },
     "execution_count": 10,
     "metadata": {},
     "output_type": "execute_result"
    }
   ],
   "source": [
    "str.rsplit()"
   ]
  },
  {
   "cell_type": "code",
   "execution_count": 11,
   "id": "8fb00524",
   "metadata": {},
   "outputs": [
    {
     "data": {
      "text/plain": [
       "'prneeth sdfgs'"
      ]
     },
     "execution_count": 11,
     "metadata": {},
     "output_type": "execute_result"
    }
   ],
   "source": [
    "str.rstrip()"
   ]
  },
  {
   "cell_type": "code",
   "execution_count": 12,
   "id": "dde01dd3",
   "metadata": {},
   "outputs": [
    {
     "data": {
      "text/plain": [
       "['prneeth sdfgs']"
      ]
     },
     "execution_count": 12,
     "metadata": {},
     "output_type": "execute_result"
    }
   ],
   "source": [
    "str.splitlines()"
   ]
  },
  {
   "cell_type": "code",
   "execution_count": 13,
   "id": "5988e985",
   "metadata": {},
   "outputs": [
    {
     "data": {
      "text/plain": [
       "'prneeth sdfgs'"
      ]
     },
     "execution_count": 13,
     "metadata": {},
     "output_type": "execute_result"
    }
   ],
   "source": [
    "str.lower()"
   ]
  },
  {
   "cell_type": "code",
   "execution_count": 14,
   "id": "d06b9863",
   "metadata": {},
   "outputs": [
    {
     "data": {
      "text/plain": [
       "'prneeth sdfgs'"
      ]
     },
     "execution_count": 14,
     "metadata": {},
     "output_type": "execute_result"
    }
   ],
   "source": [
    "str.lstrip()"
   ]
  },
  {
   "cell_type": "code",
   "execution_count": 16,
   "id": "e1e2e682",
   "metadata": {},
   "outputs": [],
   "source": [
    "name = \"    Praneeth    \""
   ]
  },
  {
   "cell_type": "code",
   "execution_count": 17,
   "id": "c990f754",
   "metadata": {},
   "outputs": [
    {
     "data": {
      "text/plain": [
       "'    Praneeth'"
      ]
     },
     "execution_count": 17,
     "metadata": {},
     "output_type": "execute_result"
    }
   ],
   "source": [
    "name.rstrip()"
   ]
  },
  {
   "cell_type": "code",
   "execution_count": 18,
   "id": "248fcc9b",
   "metadata": {},
   "outputs": [
    {
     "data": {
      "text/plain": [
       "['Praneeth']"
      ]
     },
     "execution_count": 18,
     "metadata": {},
     "output_type": "execute_result"
    }
   ],
   "source": [
    "name.split()"
   ]
  },
  {
   "cell_type": "code",
   "execution_count": 19,
   "id": "7da5b2b5",
   "metadata": {},
   "outputs": [],
   "source": [
    "str = \"    Vamshi Dhar    \""
   ]
  },
  {
   "cell_type": "code",
   "execution_count": 20,
   "id": "70d649b5",
   "metadata": {},
   "outputs": [
    {
     "data": {
      "text/plain": [
       "'Vamshi Dhar'"
      ]
     },
     "execution_count": 20,
     "metadata": {},
     "output_type": "execute_result"
    }
   ],
   "source": [
    "str.strip()"
   ]
  },
  {
   "cell_type": "code",
   "execution_count": 22,
   "id": "53f05abb",
   "metadata": {},
   "outputs": [
    {
     "data": {
      "text/plain": [
       "'Vamshi Dhar    '"
      ]
     },
     "execution_count": 22,
     "metadata": {},
     "output_type": "execute_result"
    }
   ],
   "source": [
    "str.lstrip()"
   ]
  },
  {
   "cell_type": "code",
   "execution_count": 23,
   "id": "ddebe344",
   "metadata": {},
   "outputs": [
    {
     "data": {
      "text/plain": [
       "'    Vamshi Dhar'"
      ]
     },
     "execution_count": 23,
     "metadata": {},
     "output_type": "execute_result"
    }
   ],
   "source": [
    "str.rstrip()"
   ]
  },
  {
   "cell_type": "code",
   "execution_count": 24,
   "id": "c901e4dc",
   "metadata": {},
   "outputs": [
    {
     "data": {
      "text/plain": [
       "'*****    Vamshi Dhar    ******'"
      ]
     },
     "execution_count": 24,
     "metadata": {},
     "output_type": "execute_result"
    }
   ],
   "source": [
    "str.center(30,\"*\")"
   ]
  },
  {
   "cell_type": "code",
   "execution_count": 28,
   "id": "a499d66c",
   "metadata": {},
   "outputs": [],
   "source": [
    "strl = \"Ganesh\""
   ]
  },
  {
   "cell_type": "code",
   "execution_count": 29,
   "id": "bde6b936",
   "metadata": {},
   "outputs": [
    {
     "data": {
      "text/plain": [
       "'###########################Ganesh###########################'"
      ]
     },
     "execution_count": 29,
     "metadata": {},
     "output_type": "execute_result"
    }
   ],
   "source": [
    "strl.center(60,\"#\")"
   ]
  },
  {
   "cell_type": "code",
   "execution_count": 30,
   "id": "4bf1b9c9",
   "metadata": {},
   "outputs": [
    {
     "data": {
      "text/plain": [
       "1"
      ]
     },
     "execution_count": 30,
     "metadata": {},
     "output_type": "execute_result"
    }
   ],
   "source": [
    "strl.count(\"a\")"
   ]
  },
  {
   "cell_type": "code",
   "execution_count": 31,
   "id": "52d36598",
   "metadata": {},
   "outputs": [],
   "source": [
    "str2 = \"greeshmai\""
   ]
  },
  {
   "cell_type": "code",
   "execution_count": 33,
   "id": "d4865b05",
   "metadata": {},
   "outputs": [
    {
     "data": {
      "text/plain": [
       "2"
      ]
     },
     "execution_count": 33,
     "metadata": {},
     "output_type": "execute_result"
    }
   ],
   "source": [
    "str2.count(\"e\")"
   ]
  },
  {
   "cell_type": "code",
   "execution_count": 34,
   "id": "64b65216",
   "metadata": {},
   "outputs": [
    {
     "data": {
      "text/plain": [
       "2"
      ]
     },
     "execution_count": 34,
     "metadata": {},
     "output_type": "execute_result"
    }
   ],
   "source": [
    "str2.index(\"e\")"
   ]
  },
  {
   "cell_type": "code",
   "execution_count": 35,
   "id": "0a9802f3",
   "metadata": {},
   "outputs": [
    {
     "ename": "NameError",
     "evalue": "name 'str1' is not defined",
     "output_type": "error",
     "traceback": [
      "\u001b[1;31m---------------------------------------------------------------------------\u001b[0m",
      "\u001b[1;31mNameError\u001b[0m                                 Traceback (most recent call last)",
      "Input \u001b[1;32mIn [35]\u001b[0m, in \u001b[0;36m<cell line: 1>\u001b[1;34m()\u001b[0m\n\u001b[1;32m----> 1\u001b[0m \u001b[43mstr1\u001b[49m\u001b[38;5;241m.\u001b[39mindex(\u001b[38;5;124m\"\u001b[39m\u001b[38;5;124me\u001b[39m\u001b[38;5;124m\"\u001b[39m)\n",
      "\u001b[1;31mNameError\u001b[0m: name 'str1' is not defined"
     ]
    }
   ],
   "source": [
    "str1.index(\"e\")"
   ]
  },
  {
   "cell_type": "code",
   "execution_count": 36,
   "id": "777e83e2",
   "metadata": {},
   "outputs": [],
   "source": [
    "str3 = \"Sanjay\""
   ]
  },
  {
   "cell_type": "code",
   "execution_count": 37,
   "id": "70708086",
   "metadata": {},
   "outputs": [
    {
     "data": {
      "text/plain": [
       "'SANJAY'"
      ]
     },
     "execution_count": 37,
     "metadata": {},
     "output_type": "execute_result"
    }
   ],
   "source": [
    "str3.upper()"
   ]
  },
  {
   "cell_type": "code",
   "execution_count": 38,
   "id": "4186d2cb",
   "metadata": {},
   "outputs": [],
   "source": [
    "str4 = \"shashank\""
   ]
  },
  {
   "cell_type": "code",
   "execution_count": 39,
   "id": "d649db82",
   "metadata": {},
   "outputs": [
    {
     "data": {
      "text/plain": [
       "'shashank'"
      ]
     },
     "execution_count": 39,
     "metadata": {},
     "output_type": "execute_result"
    }
   ],
   "source": [
    "str4.lower()"
   ]
  },
  {
   "cell_type": "code",
   "execution_count": 40,
   "id": "a86aa945",
   "metadata": {},
   "outputs": [
    {
     "data": {
      "text/plain": [
       "'SHASHANK'"
      ]
     },
     "execution_count": 40,
     "metadata": {},
     "output_type": "execute_result"
    }
   ],
   "source": [
    "str4.swapcase()"
   ]
  },
  {
   "cell_type": "code",
   "execution_count": 41,
   "id": "bc94754b",
   "metadata": {},
   "outputs": [
    {
     "data": {
      "text/plain": [
       "['sh', 'sh', 'nk']"
      ]
     },
     "execution_count": 41,
     "metadata": {},
     "output_type": "execute_result"
    }
   ],
   "source": [
    "str4.split(\"a\")"
   ]
  },
  {
   "cell_type": "code",
   "execution_count": 42,
   "id": "1ef2a2ac",
   "metadata": {},
   "outputs": [
    {
     "data": {
      "text/plain": [
       "True"
      ]
     },
     "execution_count": 42,
     "metadata": {},
     "output_type": "execute_result"
    }
   ],
   "source": [
    "str4.isalnum()"
   ]
  },
  {
   "cell_type": "code",
   "execution_count": 43,
   "id": "a5d0e640",
   "metadata": {},
   "outputs": [],
   "source": [
    "str5 = \"sashank123\""
   ]
  },
  {
   "cell_type": "code",
   "execution_count": 44,
   "id": "702aecd9",
   "metadata": {},
   "outputs": [
    {
     "data": {
      "text/plain": [
       "False"
      ]
     },
     "execution_count": 44,
     "metadata": {},
     "output_type": "execute_result"
    }
   ],
   "source": [
    "str5.isalpha()"
   ]
  },
  {
   "cell_type": "code",
   "execution_count": 45,
   "id": "12b9e59a",
   "metadata": {},
   "outputs": [
    {
     "data": {
      "text/plain": [
       "True"
      ]
     },
     "execution_count": 45,
     "metadata": {},
     "output_type": "execute_result"
    }
   ],
   "source": [
    "str5.isalnum()"
   ]
  },
  {
   "cell_type": "code",
   "execution_count": 46,
   "id": "c69d41ed",
   "metadata": {},
   "outputs": [
    {
     "data": {
      "text/plain": [
       "True"
      ]
     },
     "execution_count": 46,
     "metadata": {},
     "output_type": "execute_result"
    }
   ],
   "source": [
    "str5.isascii()"
   ]
  },
  {
   "cell_type": "code",
   "execution_count": 48,
   "id": "3899019c",
   "metadata": {},
   "outputs": [
    {
     "data": {
      "text/plain": [
       "False"
      ]
     },
     "execution_count": 48,
     "metadata": {},
     "output_type": "execute_result"
    }
   ],
   "source": [
    "str5.isdigit()"
   ]
  },
  {
   "cell_type": "code",
   "execution_count": 49,
   "id": "980fffbc",
   "metadata": {},
   "outputs": [],
   "source": [
    "str6 = \"123545\""
   ]
  },
  {
   "cell_type": "code",
   "execution_count": 51,
   "id": "99206f5f",
   "metadata": {},
   "outputs": [
    {
     "data": {
      "text/plain": [
       "True"
      ]
     },
     "execution_count": 51,
     "metadata": {},
     "output_type": "execute_result"
    }
   ],
   "source": [
    "str6.isdigit()"
   ]
  },
  {
   "cell_type": "code",
   "execution_count": 52,
   "id": "555a8be1",
   "metadata": {},
   "outputs": [
    {
     "data": {
      "text/plain": [
       "True"
      ]
     },
     "execution_count": 52,
     "metadata": {},
     "output_type": "execute_result"
    }
   ],
   "source": [
    "str6.isnumeric()"
   ]
  },
  {
   "cell_type": "code",
   "execution_count": 53,
   "id": "40787519",
   "metadata": {},
   "outputs": [
    {
     "data": {
      "text/plain": [
       "True"
      ]
     },
     "execution_count": 53,
     "metadata": {},
     "output_type": "execute_result"
    }
   ],
   "source": [
    "str6.isdecimal()"
   ]
  },
  {
   "cell_type": "code",
   "execution_count": 54,
   "id": "2e865d78",
   "metadata": {},
   "outputs": [],
   "source": [
    "str7 = \"Bharath\""
   ]
  },
  {
   "cell_type": "code",
   "execution_count": 55,
   "id": "91419202",
   "metadata": {},
   "outputs": [
    {
     "data": {
      "text/plain": [
       "False"
      ]
     },
     "execution_count": 55,
     "metadata": {},
     "output_type": "execute_result"
    }
   ],
   "source": [
    "str7.isupper()"
   ]
  },
  {
   "cell_type": "code",
   "execution_count": 56,
   "id": "80608863",
   "metadata": {},
   "outputs": [
    {
     "data": {
      "text/plain": [
       "False"
      ]
     },
     "execution_count": 56,
     "metadata": {},
     "output_type": "execute_result"
    }
   ],
   "source": [
    "str7.islower()"
   ]
  },
  {
   "cell_type": "code",
   "execution_count": 57,
   "id": "0987212a",
   "metadata": {},
   "outputs": [],
   "source": [
    "str8 = \"bharath\""
   ]
  },
  {
   "cell_type": "code",
   "execution_count": 58,
   "id": "09698aea",
   "metadata": {},
   "outputs": [
    {
     "data": {
      "text/plain": [
       "True"
      ]
     },
     "execution_count": 58,
     "metadata": {},
     "output_type": "execute_result"
    }
   ],
   "source": [
    "str8.islower()"
   ]
  },
  {
   "cell_type": "code",
   "execution_count": 59,
   "id": "48f5c0f7",
   "metadata": {},
   "outputs": [
    {
     "ename": "AttributeError",
     "evalue": "'str' object has no attribute 'reverse'",
     "output_type": "error",
     "traceback": [
      "\u001b[1;31m---------------------------------------------------------------------------\u001b[0m",
      "\u001b[1;31mAttributeError\u001b[0m                            Traceback (most recent call last)",
      "Input \u001b[1;32mIn [59]\u001b[0m, in \u001b[0;36m<cell line: 1>\u001b[1;34m()\u001b[0m\n\u001b[1;32m----> 1\u001b[0m \u001b[43mstr8\u001b[49m\u001b[38;5;241;43m.\u001b[39;49m\u001b[43mreverse\u001b[49m()\n",
      "\u001b[1;31mAttributeError\u001b[0m: 'str' object has no attribute 'reverse'"
     ]
    }
   ],
   "source": [
    "str8.reverse()"
   ]
  },
  {
   "cell_type": "code",
   "execution_count": 60,
   "id": "1c5b0b82",
   "metadata": {},
   "outputs": [
    {
     "data": {
      "text/plain": [
       "'b*h*a*r*a*t*h'"
      ]
     },
     "execution_count": 60,
     "metadata": {},
     "output_type": "execute_result"
    }
   ],
   "source": [
    "\"*\".join(str8)"
   ]
  },
  {
   "cell_type": "code",
   "execution_count": null,
   "id": "ad041eb8",
   "metadata": {},
   "outputs": [],
   "source": []
  }
 ],
 "metadata": {
  "kernelspec": {
   "display_name": "Python 3 (ipykernel)",
   "language": "python",
   "name": "python3"
  },
  "language_info": {
   "codemirror_mode": {
    "name": "ipython",
    "version": 3
   },
   "file_extension": ".py",
   "mimetype": "text/x-python",
   "name": "python",
   "nbconvert_exporter": "python",
   "pygments_lexer": "ipython3",
   "version": "3.9.12"
  }
 },
 "nbformat": 4,
 "nbformat_minor": 5
}
